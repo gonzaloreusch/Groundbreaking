{
 "cells": [
  {
   "cell_type": "code",
   "execution_count": 4,
   "metadata": {},
   "outputs": [],
   "source": [
    "#import dependencies\n",
    "import os\n",
    "import requests\n",
    "import json\n",
    "import time\n",
    "#from config import ow_api\n",
    "import numpy\n",
    "import random\n",
    "import matplotlib.pyplot as plt\n",
    "import pandas as pd\n",
    "#add citipy for dealing with city names\n",
    "#from citipy import citipy\n",
    "#added scipy linregress to create regression equation further down\n",
    "from scipy.stats import linregress\n",
    "import time\n",
    "import datetime\n",
    "\n",
    "#API = ow_api\n"
   ]
  },
  {
   "cell_type": "code",
   "execution_count": null,
   "metadata": {},
   "outputs": [],
   "source": [
    "# example URL\n",
    "# https://earthquake.usgs.gov/fdsnws/event/1/query.geojson?starttime=1991-04-01%2000:00:00&endtime=1991-06-20%2023:59:59&latitude=15.14561&longitude=120.346209&maxradiuskm=50&minmagnitude=2.5&orderby=time"
   ]
  },
  {
   "cell_type": "code",
   "execution_count": 7,
   "metadata": {},
   "outputs": [
    {
     "name": "stdout",
     "output_type": "stream",
     "text": [
      "2015-07-12\n"
     ]
    }
   ],
   "source": [
    "#test to ensure date math is working for our desired 90 day range.\n",
    "test_date = datetime.date(2015, 10, 10)\n",
    "days = datetime.timedelta(90)\n",
    "\n",
    "new_date = test_date - days\n",
    "print(new_date)"
   ]
  },
  {
   "cell_type": "code",
   "execution_count": null,
   "metadata": {},
   "outputs": [],
   "source": [
    "## get the data from Volcanoes csv\n",
    "Eruptions = pd.read_csv(\"data/eruptions_clean.csv\", encoding=\"utf-8\")"
   ]
  },
  {
   "cell_type": "code",
   "execution_count": null,
   "metadata": {},
   "outputs": [],
   "source": [
    "quake_list = []\n",
    "i= 0\n",
    "waitingtime = 0\n",
    "## change i values later\n",
    "while i < 350\n",
    "    end_date = datetime.datetime(year=Eruptions[year][i], month=Eruptions[month][i], day=Eruptions[day][i])\n",
    "    day_range = datetime.timedelta(90)\n",
    "    start_date = end_date - day_range\n",
    "    \n",
    "    url = f\"https://earthquake.usgs.gov/fdsnws/event/1/query.geojson?starttime={start_date}%2000:00:00&endtime={end_date}%2023:59:59&latitude={lat}&longitude={lon}&maxradiuskm=50&minmagnitude=2.5&orderby=time\"\n",
    "    jsn = requests.get(url)\n",
    "    try:\n",
    "        quake_list.append(jsn)\n",
    "        i = i + 1\n",
    "        waitingtime = 0\n",
    "    except: \n",
    "        waitingtime = waitingtime + 1\n",
    "        print(f\"Waiting {waitingtime} seconds\")\n",
    "        time.sleep(1)\n",
    "        \n",
    "with open('data/quakes_list.json', 'w') as jsonfile:\n",
    "    json.dump(jsnlist, jsonfile)"
   ]
  },
  {
   "cell_type": "code",
   "execution_count": null,
   "metadata": {},
   "outputs": [],
   "source": [
    "# old code from above cell\n",
    "    #lat = Eruptions[latitude][i]\n",
    "    #lon = Eruptions[longitude][i]\n",
    "    #end_year = Eruptions[year][i]\n",
    "    #end_month = Eruptions[month][i]\n",
    "    #end_day = Eruptions[day][i]\n",
    "    #start_date = end_date - 90 days"
   ]
  },
  {
   "cell_type": "code",
   "execution_count": null,
   "metadata": {},
   "outputs": [],
   "source": []
  },
  {
   "cell_type": "code",
   "execution_count": null,
   "metadata": {},
   "outputs": [],
   "source": []
  },
  {
   "cell_type": "code",
   "execution_count": null,
   "metadata": {},
   "outputs": [],
   "source": []
  }
 ],
 "metadata": {
  "anaconda-cloud": {},
  "kernelspec": {
   "display_name": "Python 3",
   "language": "python",
   "name": "python3"
  },
  "language_info": {
   "codemirror_mode": {
    "name": "ipython",
    "version": 3
   },
   "file_extension": ".py",
   "mimetype": "text/x-python",
   "name": "python",
   "nbconvert_exporter": "python",
   "pygments_lexer": "ipython3",
   "version": "3.8.3"
  }
 },
 "nbformat": 4,
 "nbformat_minor": 4
}
