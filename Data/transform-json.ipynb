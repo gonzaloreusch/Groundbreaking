{
 "metadata": {
  "language_info": {
   "codemirror_mode": {
    "name": "ipython",
    "version": 3
   },
   "file_extension": ".py",
   "mimetype": "text/x-python",
   "name": "python",
   "nbconvert_exporter": "python",
   "pygments_lexer": "ipython3",
   "version": "3.8.3-final"
  },
  "orig_nbformat": 2,
  "kernelspec": {
   "name": "python3",
   "display_name": "Python 3.8.3 64-bit ('anaconda3': virtualenv)",
   "metadata": {
    "interpreter": {
     "hash": "85775aff345b3eaa0ca7ddb469af64066999764fb38d3f5fd44cd6d53efe5949"
    }
   }
  }
 },
 "nbformat": 4,
 "nbformat_minor": 2,
 "cells": [
  {
   "cell_type": "code",
   "execution_count": 4,
   "metadata": {},
   "outputs": [
    {
     "output_type": "execute_result",
     "data": {
      "text/plain": [
       "            Search Parameters  ...  Total Houses Destroyed Description\n",
       "0    [\"1950 <= Year >= 2021\"]  ...                                 NaN\n",
       "1                         NaN  ...                                 NaN\n",
       "2                         NaN  ...                                 NaN\n",
       "3                         NaN  ...                                 1.0\n",
       "4                         NaN  ...                                 NaN\n",
       "..                        ...  ...                                 ...\n",
       "344                       NaN  ...                                 NaN\n",
       "345                       NaN  ...                                 NaN\n",
       "346                       NaN  ...                                 NaN\n",
       "347                       NaN  ...                                 4.0\n",
       "348                       NaN  ...                                 NaN\n",
       "\n",
       "[349 rows x 35 columns]"
      ],
      "text/html": "<div>\n<style scoped>\n    .dataframe tbody tr th:only-of-type {\n        vertical-align: middle;\n    }\n\n    .dataframe tbody tr th {\n        vertical-align: top;\n    }\n\n    .dataframe thead th {\n        text-align: right;\n    }\n</style>\n<table border=\"1\" class=\"dataframe\">\n  <thead>\n    <tr style=\"text-align: right;\">\n      <th></th>\n      <th>Search Parameters</th>\n      <th>Year</th>\n      <th>Mo</th>\n      <th>Dy</th>\n      <th>Tsu</th>\n      <th>Eq</th>\n      <th>Name</th>\n      <th>Location</th>\n      <th>Country</th>\n      <th>Latitude</th>\n      <th>Longitude</th>\n      <th>Elevation (m)</th>\n      <th>Type</th>\n      <th>VEI</th>\n      <th>Agent</th>\n      <th>Deaths</th>\n      <th>Death Description</th>\n      <th>Missing</th>\n      <th>Missing Description</th>\n      <th>Injuries</th>\n      <th>Injuries Description</th>\n      <th>Damage ($Mil)</th>\n      <th>Damage Description</th>\n      <th>Houses Destroyed</th>\n      <th>Houses Destroyed Description</th>\n      <th>Total Deaths</th>\n      <th>Total Death Description</th>\n      <th>Total Missing</th>\n      <th>Total Missing Description</th>\n      <th>Total Injuries</th>\n      <th>Total Injuries Description</th>\n      <th>Total Damage ($Mil)</th>\n      <th>Total Damage Description</th>\n      <th>Total Houses Destroyed</th>\n      <th>Total Houses Destroyed Description</th>\n    </tr>\n  </thead>\n  <tbody>\n    <tr>\n      <th>0</th>\n      <td>[\"1950 &lt;= Year &gt;= 2021\"]</td>\n      <td>NaN</td>\n      <td>NaN</td>\n      <td>NaN</td>\n      <td>NaN</td>\n      <td>NaN</td>\n      <td>NaN</td>\n      <td>NaN</td>\n      <td>NaN</td>\n      <td>NaN</td>\n      <td>NaN</td>\n      <td>NaN</td>\n      <td>NaN</td>\n      <td>NaN</td>\n      <td>NaN</td>\n      <td>NaN</td>\n      <td>NaN</td>\n      <td>NaN</td>\n      <td>NaN</td>\n      <td>NaN</td>\n      <td>NaN</td>\n      <td>NaN</td>\n      <td>NaN</td>\n      <td>NaN</td>\n      <td>NaN</td>\n      <td>NaN</td>\n      <td>NaN</td>\n      <td>NaN</td>\n      <td>NaN</td>\n      <td>NaN</td>\n      <td>NaN</td>\n      <td>NaN</td>\n      <td>NaN</td>\n      <td>NaN</td>\n      <td>NaN</td>\n    </tr>\n    <tr>\n      <th>1</th>\n      <td>NaN</td>\n      <td>1950.0</td>\n      <td>8.0</td>\n      <td>28.0</td>\n      <td>NaN</td>\n      <td>NaN</td>\n      <td>Semeru</td>\n      <td>Java</td>\n      <td>Indonesia</td>\n      <td>-8.108</td>\n      <td>112.920</td>\n      <td>3676.0</td>\n      <td>Stratovolcano</td>\n      <td>1.0</td>\n      <td>P</td>\n      <td>6.0</td>\n      <td>1.0</td>\n      <td>NaN</td>\n      <td>NaN</td>\n      <td>NaN</td>\n      <td>NaN</td>\n      <td>NaN</td>\n      <td>NaN</td>\n      <td>NaN</td>\n      <td>NaN</td>\n      <td>6.0</td>\n      <td>1.0</td>\n      <td>NaN</td>\n      <td>NaN</td>\n      <td>NaN</td>\n      <td>NaN</td>\n      <td>NaN</td>\n      <td>NaN</td>\n      <td>NaN</td>\n      <td>NaN</td>\n    </tr>\n    <tr>\n      <th>2</th>\n      <td>NaN</td>\n      <td>1950.0</td>\n      <td>9.0</td>\n      <td>15.0</td>\n      <td>NaN</td>\n      <td>NaN</td>\n      <td>Camiguin</td>\n      <td>Mindanao-Philippines</td>\n      <td>Philippines</td>\n      <td>9.203</td>\n      <td>124.673</td>\n      <td>1332.0</td>\n      <td>Stratovolcano</td>\n      <td>3.0</td>\n      <td>P</td>\n      <td>68.0</td>\n      <td>2.0</td>\n      <td>NaN</td>\n      <td>NaN</td>\n      <td>NaN</td>\n      <td>NaN</td>\n      <td>NaN</td>\n      <td>NaN</td>\n      <td>NaN</td>\n      <td>NaN</td>\n      <td>68.0</td>\n      <td>2.0</td>\n      <td>NaN</td>\n      <td>NaN</td>\n      <td>NaN</td>\n      <td>NaN</td>\n      <td>NaN</td>\n      <td>NaN</td>\n      <td>NaN</td>\n      <td>NaN</td>\n    </tr>\n    <tr>\n      <th>3</th>\n      <td>NaN</td>\n      <td>1950.0</td>\n      <td>9.0</td>\n      <td>23.0</td>\n      <td>NaN</td>\n      <td>NaN</td>\n      <td>Asama</td>\n      <td>Honshu-Japan</td>\n      <td>Japan</td>\n      <td>36.400</td>\n      <td>138.530</td>\n      <td>2560.0</td>\n      <td>Complex volcano</td>\n      <td>2.0</td>\n      <td>T</td>\n      <td>1.0</td>\n      <td>1.0</td>\n      <td>NaN</td>\n      <td>NaN</td>\n      <td>1.0</td>\n      <td>1.0</td>\n      <td>NaN</td>\n      <td>NaN</td>\n      <td>NaN</td>\n      <td>1.0</td>\n      <td>1.0</td>\n      <td>1.0</td>\n      <td>NaN</td>\n      <td>NaN</td>\n      <td>1.0</td>\n      <td>1.0</td>\n      <td>NaN</td>\n      <td>NaN</td>\n      <td>NaN</td>\n      <td>1.0</td>\n    </tr>\n    <tr>\n      <th>4</th>\n      <td>NaN</td>\n      <td>1951.0</td>\n      <td>1.0</td>\n      <td>21.0</td>\n      <td>NaN</td>\n      <td>NaN</td>\n      <td>Lamington</td>\n      <td>New Guinea</td>\n      <td>Papua New Guinea</td>\n      <td>-8.950</td>\n      <td>148.150</td>\n      <td>1680.0</td>\n      <td>Stratovolcano</td>\n      <td>4.0</td>\n      <td>P</td>\n      <td>2942.0</td>\n      <td>4.0</td>\n      <td>NaN</td>\n      <td>NaN</td>\n      <td>NaN</td>\n      <td>2.0</td>\n      <td>NaN</td>\n      <td>NaN</td>\n      <td>NaN</td>\n      <td>NaN</td>\n      <td>2942.0</td>\n      <td>4.0</td>\n      <td>NaN</td>\n      <td>NaN</td>\n      <td>NaN</td>\n      <td>2.0</td>\n      <td>NaN</td>\n      <td>NaN</td>\n      <td>NaN</td>\n      <td>NaN</td>\n    </tr>\n    <tr>\n      <th>...</th>\n      <td>...</td>\n      <td>...</td>\n      <td>...</td>\n      <td>...</td>\n      <td>...</td>\n      <td>...</td>\n      <td>...</td>\n      <td>...</td>\n      <td>...</td>\n      <td>...</td>\n      <td>...</td>\n      <td>...</td>\n      <td>...</td>\n      <td>...</td>\n      <td>...</td>\n      <td>...</td>\n      <td>...</td>\n      <td>...</td>\n      <td>...</td>\n      <td>...</td>\n      <td>...</td>\n      <td>...</td>\n      <td>...</td>\n      <td>...</td>\n      <td>...</td>\n      <td>...</td>\n      <td>...</td>\n      <td>...</td>\n      <td>...</td>\n      <td>...</td>\n      <td>...</td>\n      <td>...</td>\n      <td>...</td>\n      <td>...</td>\n      <td>...</td>\n    </tr>\n    <tr>\n      <th>344</th>\n      <td>NaN</td>\n      <td>2019.0</td>\n      <td>7.0</td>\n      <td>3.0</td>\n      <td>NaN</td>\n      <td>NaN</td>\n      <td>Stromboli</td>\n      <td>Italy</td>\n      <td>Italy</td>\n      <td>38.789</td>\n      <td>15.213</td>\n      <td>926.0</td>\n      <td>Stratovolcano</td>\n      <td>2.0</td>\n      <td>P,T</td>\n      <td>1.0</td>\n      <td>1.0</td>\n      <td>NaN</td>\n      <td>NaN</td>\n      <td>1.0</td>\n      <td>1.0</td>\n      <td>NaN</td>\n      <td>NaN</td>\n      <td>NaN</td>\n      <td>NaN</td>\n      <td>1.0</td>\n      <td>1.0</td>\n      <td>NaN</td>\n      <td>NaN</td>\n      <td>1.0</td>\n      <td>1.0</td>\n      <td>NaN</td>\n      <td>NaN</td>\n      <td>NaN</td>\n      <td>NaN</td>\n    </tr>\n    <tr>\n      <th>345</th>\n      <td>NaN</td>\n      <td>2019.0</td>\n      <td>8.0</td>\n      <td>28.0</td>\n      <td>5716.0</td>\n      <td>NaN</td>\n      <td>Stromboli</td>\n      <td>Italy</td>\n      <td>Italy</td>\n      <td>38.789</td>\n      <td>15.213</td>\n      <td>926.0</td>\n      <td>Stratovolcano</td>\n      <td>2.0</td>\n      <td>W</td>\n      <td>NaN</td>\n      <td>NaN</td>\n      <td>NaN</td>\n      <td>NaN</td>\n      <td>NaN</td>\n      <td>NaN</td>\n      <td>NaN</td>\n      <td>NaN</td>\n      <td>NaN</td>\n      <td>NaN</td>\n      <td>NaN</td>\n      <td>NaN</td>\n      <td>NaN</td>\n      <td>NaN</td>\n      <td>NaN</td>\n      <td>NaN</td>\n      <td>NaN</td>\n      <td>NaN</td>\n      <td>NaN</td>\n      <td>NaN</td>\n    </tr>\n    <tr>\n      <th>346</th>\n      <td>NaN</td>\n      <td>2019.0</td>\n      <td>12.0</td>\n      <td>9.0</td>\n      <td>NaN</td>\n      <td>NaN</td>\n      <td>White Island</td>\n      <td>New Zealand</td>\n      <td>New Zealand</td>\n      <td>-37.520</td>\n      <td>177.180</td>\n      <td>321.0</td>\n      <td>Stratovolcano</td>\n      <td>2.0</td>\n      <td>T</td>\n      <td>22.0</td>\n      <td>1.0</td>\n      <td>NaN</td>\n      <td>NaN</td>\n      <td>25.0</td>\n      <td>1.0</td>\n      <td>NaN</td>\n      <td>NaN</td>\n      <td>NaN</td>\n      <td>NaN</td>\n      <td>22.0</td>\n      <td>1.0</td>\n      <td>NaN</td>\n      <td>NaN</td>\n      <td>25.0</td>\n      <td>1.0</td>\n      <td>NaN</td>\n      <td>NaN</td>\n      <td>NaN</td>\n      <td>NaN</td>\n    </tr>\n    <tr>\n      <th>347</th>\n      <td>NaN</td>\n      <td>2020.0</td>\n      <td>1.0</td>\n      <td>12.0</td>\n      <td>NaN</td>\n      <td>NaN</td>\n      <td>Taal</td>\n      <td>Luzon-Philippines</td>\n      <td>Philippines</td>\n      <td>14.002</td>\n      <td>120.993</td>\n      <td>400.0</td>\n      <td>Stratovolcano</td>\n      <td>NaN</td>\n      <td>T</td>\n      <td>39.0</td>\n      <td>1.0</td>\n      <td>NaN</td>\n      <td>NaN</td>\n      <td>NaN</td>\n      <td>NaN</td>\n      <td>67.0</td>\n      <td>4.0</td>\n      <td>4573.0</td>\n      <td>4.0</td>\n      <td>39.0</td>\n      <td>1.0</td>\n      <td>NaN</td>\n      <td>NaN</td>\n      <td>NaN</td>\n      <td>NaN</td>\n      <td>67.0</td>\n      <td>4.0</td>\n      <td>4573.0</td>\n      <td>4.0</td>\n    </tr>\n    <tr>\n      <th>348</th>\n      <td>NaN</td>\n      <td>2020.0</td>\n      <td>5.0</td>\n      <td>29.0</td>\n      <td>5748.0</td>\n      <td>10501.0</td>\n      <td>Ijen</td>\n      <td>Java</td>\n      <td>Indonesia</td>\n      <td>-8.058</td>\n      <td>114.242</td>\n      <td>2799.0</td>\n      <td>Stratovolcano</td>\n      <td>NaN</td>\n      <td>G,W, S</td>\n      <td>1.0</td>\n      <td>1.0</td>\n      <td>NaN</td>\n      <td>NaN</td>\n      <td>NaN</td>\n      <td>NaN</td>\n      <td>NaN</td>\n      <td>NaN</td>\n      <td>NaN</td>\n      <td>NaN</td>\n      <td>1.0</td>\n      <td>1.0</td>\n      <td>NaN</td>\n      <td>NaN</td>\n      <td>NaN</td>\n      <td>NaN</td>\n      <td>NaN</td>\n      <td>NaN</td>\n      <td>NaN</td>\n      <td>NaN</td>\n    </tr>\n  </tbody>\n</table>\n<p>349 rows × 35 columns</p>\n</div>"
     },
     "metadata": {},
     "execution_count": 4
    }
   ],
   "source": [
    "import json\n",
    "import pandas as pd\n",
    "\n",
    "file1 = 'Eruptions1950-2021'\n",
    "filepath = f'Data/{file1}.csv'\n",
    "\n",
    "data_eruptions = pd.read_csv(filepath)\n",
    "\n",
    "data_eruptions"
   ]
  },
  {
   "cell_type": "code",
   "execution_count": 5,
   "metadata": {},
   "outputs": [
    {
     "output_type": "execute_result",
     "data": {
      "text/plain": [
       "Search Parameters                      object\n",
       "Year                                  float64\n",
       "Mo                                    float64\n",
       "Dy                                    float64\n",
       "Tsu                                   float64\n",
       "Eq                                    float64\n",
       "Name                                   object\n",
       "Location                               object\n",
       "Country                                object\n",
       "Latitude                              float64\n",
       "Longitude                             float64\n",
       "Elevation (m)                         float64\n",
       "Type                                   object\n",
       "VEI                                   float64\n",
       "Agent                                  object\n",
       "Deaths                                float64\n",
       "Death Description                     float64\n",
       "Missing                               float64\n",
       "Missing Description                   float64\n",
       "Injuries                              float64\n",
       "Injuries Description                  float64\n",
       "Damage ($Mil)                         float64\n",
       "Damage Description                    float64\n",
       "Houses Destroyed                      float64\n",
       "Houses Destroyed Description          float64\n",
       "Total Deaths                          float64\n",
       "Total Death Description               float64\n",
       "Total Missing                         float64\n",
       "Total Missing Description             float64\n",
       "Total Injuries                        float64\n",
       "Total Injuries Description            float64\n",
       "Total Damage ($Mil)                   float64\n",
       "Total Damage Description              float64\n",
       "Total Houses Destroyed                float64\n",
       "Total Houses Destroyed Description    float64\n",
       "dtype: object"
      ]
     },
     "metadata": {},
     "execution_count": 5
    }
   ],
   "source": [
    "data_eruptions.dtypes"
   ]
  },
  {
   "cell_type": "code",
   "execution_count": 2,
   "metadata": {},
   "outputs": [
    {
     "output_type": "execute_result",
     "data": {
      "text/plain": [
       "                         time   latitude   longitude   depth  mag magType  \\\n",
       "0    1980-05-20T12:34:31.760Z  46.206333 -122.207667  11.514  3.4      md   \n",
       "1    1980-05-19T14:21:57.210Z  46.216167 -122.205500  13.763  3.6      md   \n",
       "2    1980-05-19T09:15:35.680Z  46.195500 -122.182333   4.839  2.9      md   \n",
       "3    1980-05-19T07:39:32.100Z  46.207333 -122.213167  11.084  3.3      md   \n",
       "4    1980-05-19T07:18:50.750Z  46.210500 -122.201667  14.454  3.6      md   \n",
       "..                        ...        ...         ...     ...  ...     ...   \n",
       "785  1980-03-24T03:27:35.900Z  46.145667 -122.150667  -1.144  3.0      md   \n",
       "786  1980-03-23T15:22:42.800Z  46.201000 -122.195500  -1.124  3.5      md   \n",
       "787  1980-03-22T22:22:42.540Z  46.203667 -122.220833  -0.873  4.2      md   \n",
       "788  1980-03-21T00:04:03.190Z  46.195000 -122.199833  -0.290  2.7      md   \n",
       "789  1980-03-20T23:47:43.460Z  46.192000 -122.203833   0.353  4.2      md   \n",
       "\n",
       "      nst    gap     dmin   rms  ...                   updated  \\\n",
       "0    20.0   61.0  0.02372  0.12  ...  2016-07-24T21:34:47.440Z   \n",
       "1    13.0   92.0  0.07834  0.09  ...  2016-07-24T21:34:11.460Z   \n",
       "2    17.0   64.0  0.03758  0.17  ...  2016-07-24T21:33:53.950Z   \n",
       "3    21.0   64.0  0.02125  0.14  ...  2016-07-24T21:33:46.410Z   \n",
       "4    27.0   58.0  0.02950  0.17  ...  2016-07-24T21:33:45.040Z   \n",
       "..    ...    ...      ...   ...  ...                       ...   \n",
       "785   4.0  259.0  0.06082  0.11  ...  2016-07-24T21:24:20.880Z   \n",
       "786   8.0  243.0  0.02936  0.22  ...  2016-07-24T21:24:20.620Z   \n",
       "787  11.0  162.0  0.01484  0.29  ...  2016-07-24T21:24:19.080Z   \n",
       "788  10.0  237.0  0.02541  0.12  ...  2016-07-24T21:24:10.750Z   \n",
       "789  12.0  210.0  0.02264  0.18  ...  2016-07-24T21:24:10.400Z   \n",
       "\n",
       "                                 place        type horizontalError depthError  \\\n",
       "0    Mount St. Helens area, Washington  earthquake           0.495       0.93   \n",
       "1    Mount St. Helens area, Washington  earthquake           0.014       0.04   \n",
       "2    Mount St. Helens area, Washington  earthquake           0.607       0.66   \n",
       "3    Mount St. Helens area, Washington  earthquake           0.702       1.55   \n",
       "4    Mount St. Helens area, Washington  earthquake           0.731       1.24   \n",
       "..                                 ...         ...             ...        ...   \n",
       "785  Mount St. Helens area, Washington  earthquake           0.402       0.10   \n",
       "786  Mount St. Helens area, Washington  earthquake           1.537       0.80   \n",
       "787  Mount St. Helens area, Washington  earthquake           7.162       9.59   \n",
       "788  Mount St. Helens area, Washington  earthquake           2.442       0.99   \n",
       "789  Mount St. Helens area, Washington  earthquake           5.165       3.87   \n",
       "\n",
       "     magError  magNst    status  locationSource magSource  \n",
       "0        0.06    11.0  reviewed              uw        uw  \n",
       "1        0.14     1.0  reviewed              uw        uw  \n",
       "2        0.06    11.0  reviewed              uw        uw  \n",
       "3        0.08    11.0  reviewed              uw        uw  \n",
       "4        0.04    12.0  reviewed              uw        uw  \n",
       "..        ...     ...       ...             ...       ...  \n",
       "785      0.03     1.0  reviewed              uw        uw  \n",
       "786      0.06     1.0  reviewed              uw        uw  \n",
       "787      0.07     1.0  reviewed              uw        uw  \n",
       "788      0.06     6.0  reviewed              uw        uw  \n",
       "789      0.05     2.0  reviewed              uw        uw  \n",
       "\n",
       "[790 rows x 22 columns]"
      ],
      "text/html": "<div>\n<style scoped>\n    .dataframe tbody tr th:only-of-type {\n        vertical-align: middle;\n    }\n\n    .dataframe tbody tr th {\n        vertical-align: top;\n    }\n\n    .dataframe thead th {\n        text-align: right;\n    }\n</style>\n<table border=\"1\" class=\"dataframe\">\n  <thead>\n    <tr style=\"text-align: right;\">\n      <th></th>\n      <th>time</th>\n      <th>latitude</th>\n      <th>longitude</th>\n      <th>depth</th>\n      <th>mag</th>\n      <th>magType</th>\n      <th>nst</th>\n      <th>gap</th>\n      <th>dmin</th>\n      <th>rms</th>\n      <th>...</th>\n      <th>updated</th>\n      <th>place</th>\n      <th>type</th>\n      <th>horizontalError</th>\n      <th>depthError</th>\n      <th>magError</th>\n      <th>magNst</th>\n      <th>status</th>\n      <th>locationSource</th>\n      <th>magSource</th>\n    </tr>\n  </thead>\n  <tbody>\n    <tr>\n      <th>0</th>\n      <td>1980-05-20T12:34:31.760Z</td>\n      <td>46.206333</td>\n      <td>-122.207667</td>\n      <td>11.514</td>\n      <td>3.4</td>\n      <td>md</td>\n      <td>20.0</td>\n      <td>61.0</td>\n      <td>0.02372</td>\n      <td>0.12</td>\n      <td>...</td>\n      <td>2016-07-24T21:34:47.440Z</td>\n      <td>Mount St. Helens area, Washington</td>\n      <td>earthquake</td>\n      <td>0.495</td>\n      <td>0.93</td>\n      <td>0.06</td>\n      <td>11.0</td>\n      <td>reviewed</td>\n      <td>uw</td>\n      <td>uw</td>\n    </tr>\n    <tr>\n      <th>1</th>\n      <td>1980-05-19T14:21:57.210Z</td>\n      <td>46.216167</td>\n      <td>-122.205500</td>\n      <td>13.763</td>\n      <td>3.6</td>\n      <td>md</td>\n      <td>13.0</td>\n      <td>92.0</td>\n      <td>0.07834</td>\n      <td>0.09</td>\n      <td>...</td>\n      <td>2016-07-24T21:34:11.460Z</td>\n      <td>Mount St. Helens area, Washington</td>\n      <td>earthquake</td>\n      <td>0.014</td>\n      <td>0.04</td>\n      <td>0.14</td>\n      <td>1.0</td>\n      <td>reviewed</td>\n      <td>uw</td>\n      <td>uw</td>\n    </tr>\n    <tr>\n      <th>2</th>\n      <td>1980-05-19T09:15:35.680Z</td>\n      <td>46.195500</td>\n      <td>-122.182333</td>\n      <td>4.839</td>\n      <td>2.9</td>\n      <td>md</td>\n      <td>17.0</td>\n      <td>64.0</td>\n      <td>0.03758</td>\n      <td>0.17</td>\n      <td>...</td>\n      <td>2016-07-24T21:33:53.950Z</td>\n      <td>Mount St. Helens area, Washington</td>\n      <td>earthquake</td>\n      <td>0.607</td>\n      <td>0.66</td>\n      <td>0.06</td>\n      <td>11.0</td>\n      <td>reviewed</td>\n      <td>uw</td>\n      <td>uw</td>\n    </tr>\n    <tr>\n      <th>3</th>\n      <td>1980-05-19T07:39:32.100Z</td>\n      <td>46.207333</td>\n      <td>-122.213167</td>\n      <td>11.084</td>\n      <td>3.3</td>\n      <td>md</td>\n      <td>21.0</td>\n      <td>64.0</td>\n      <td>0.02125</td>\n      <td>0.14</td>\n      <td>...</td>\n      <td>2016-07-24T21:33:46.410Z</td>\n      <td>Mount St. Helens area, Washington</td>\n      <td>earthquake</td>\n      <td>0.702</td>\n      <td>1.55</td>\n      <td>0.08</td>\n      <td>11.0</td>\n      <td>reviewed</td>\n      <td>uw</td>\n      <td>uw</td>\n    </tr>\n    <tr>\n      <th>4</th>\n      <td>1980-05-19T07:18:50.750Z</td>\n      <td>46.210500</td>\n      <td>-122.201667</td>\n      <td>14.454</td>\n      <td>3.6</td>\n      <td>md</td>\n      <td>27.0</td>\n      <td>58.0</td>\n      <td>0.02950</td>\n      <td>0.17</td>\n      <td>...</td>\n      <td>2016-07-24T21:33:45.040Z</td>\n      <td>Mount St. Helens area, Washington</td>\n      <td>earthquake</td>\n      <td>0.731</td>\n      <td>1.24</td>\n      <td>0.04</td>\n      <td>12.0</td>\n      <td>reviewed</td>\n      <td>uw</td>\n      <td>uw</td>\n    </tr>\n    <tr>\n      <th>...</th>\n      <td>...</td>\n      <td>...</td>\n      <td>...</td>\n      <td>...</td>\n      <td>...</td>\n      <td>...</td>\n      <td>...</td>\n      <td>...</td>\n      <td>...</td>\n      <td>...</td>\n      <td>...</td>\n      <td>...</td>\n      <td>...</td>\n      <td>...</td>\n      <td>...</td>\n      <td>...</td>\n      <td>...</td>\n      <td>...</td>\n      <td>...</td>\n      <td>...</td>\n      <td>...</td>\n    </tr>\n    <tr>\n      <th>785</th>\n      <td>1980-03-24T03:27:35.900Z</td>\n      <td>46.145667</td>\n      <td>-122.150667</td>\n      <td>-1.144</td>\n      <td>3.0</td>\n      <td>md</td>\n      <td>4.0</td>\n      <td>259.0</td>\n      <td>0.06082</td>\n      <td>0.11</td>\n      <td>...</td>\n      <td>2016-07-24T21:24:20.880Z</td>\n      <td>Mount St. Helens area, Washington</td>\n      <td>earthquake</td>\n      <td>0.402</td>\n      <td>0.10</td>\n      <td>0.03</td>\n      <td>1.0</td>\n      <td>reviewed</td>\n      <td>uw</td>\n      <td>uw</td>\n    </tr>\n    <tr>\n      <th>786</th>\n      <td>1980-03-23T15:22:42.800Z</td>\n      <td>46.201000</td>\n      <td>-122.195500</td>\n      <td>-1.124</td>\n      <td>3.5</td>\n      <td>md</td>\n      <td>8.0</td>\n      <td>243.0</td>\n      <td>0.02936</td>\n      <td>0.22</td>\n      <td>...</td>\n      <td>2016-07-24T21:24:20.620Z</td>\n      <td>Mount St. Helens area, Washington</td>\n      <td>earthquake</td>\n      <td>1.537</td>\n      <td>0.80</td>\n      <td>0.06</td>\n      <td>1.0</td>\n      <td>reviewed</td>\n      <td>uw</td>\n      <td>uw</td>\n    </tr>\n    <tr>\n      <th>787</th>\n      <td>1980-03-22T22:22:42.540Z</td>\n      <td>46.203667</td>\n      <td>-122.220833</td>\n      <td>-0.873</td>\n      <td>4.2</td>\n      <td>md</td>\n      <td>11.0</td>\n      <td>162.0</td>\n      <td>0.01484</td>\n      <td>0.29</td>\n      <td>...</td>\n      <td>2016-07-24T21:24:19.080Z</td>\n      <td>Mount St. Helens area, Washington</td>\n      <td>earthquake</td>\n      <td>7.162</td>\n      <td>9.59</td>\n      <td>0.07</td>\n      <td>1.0</td>\n      <td>reviewed</td>\n      <td>uw</td>\n      <td>uw</td>\n    </tr>\n    <tr>\n      <th>788</th>\n      <td>1980-03-21T00:04:03.190Z</td>\n      <td>46.195000</td>\n      <td>-122.199833</td>\n      <td>-0.290</td>\n      <td>2.7</td>\n      <td>md</td>\n      <td>10.0</td>\n      <td>237.0</td>\n      <td>0.02541</td>\n      <td>0.12</td>\n      <td>...</td>\n      <td>2016-07-24T21:24:10.750Z</td>\n      <td>Mount St. Helens area, Washington</td>\n      <td>earthquake</td>\n      <td>2.442</td>\n      <td>0.99</td>\n      <td>0.06</td>\n      <td>6.0</td>\n      <td>reviewed</td>\n      <td>uw</td>\n      <td>uw</td>\n    </tr>\n    <tr>\n      <th>789</th>\n      <td>1980-03-20T23:47:43.460Z</td>\n      <td>46.192000</td>\n      <td>-122.203833</td>\n      <td>0.353</td>\n      <td>4.2</td>\n      <td>md</td>\n      <td>12.0</td>\n      <td>210.0</td>\n      <td>0.02264</td>\n      <td>0.18</td>\n      <td>...</td>\n      <td>2016-07-24T21:24:10.400Z</td>\n      <td>Mount St. Helens area, Washington</td>\n      <td>earthquake</td>\n      <td>5.165</td>\n      <td>3.87</td>\n      <td>0.05</td>\n      <td>2.0</td>\n      <td>reviewed</td>\n      <td>uw</td>\n      <td>uw</td>\n    </tr>\n  </tbody>\n</table>\n<p>790 rows × 22 columns</p>\n</div>"
     },
     "metadata": {},
     "execution_count": 2
    }
   ],
   "source": [
    "file2 = 'SaintHelens'\n",
    "filepath = f'Data/{file2}.csv'\n",
    "\n",
    "data_saintH = pd.read_csv(filepath)\n",
    "\n",
    "data_saintH"
   ]
  },
  {
   "cell_type": "code",
   "execution_count": 3,
   "metadata": {},
   "outputs": [],
   "source": [
    "# use for everything else\n",
    "data_eruptions.to_json(f'Data/{file1}.json', orient='index')"
   ]
  },
  {
   "cell_type": "code",
   "execution_count": 4,
   "metadata": {},
   "outputs": [],
   "source": [
    "data_saintH.to_json(f'Data/{file2}.json', orient='index')"
   ]
  },
  {
   "cell_type": "code",
   "execution_count": null,
   "metadata": {},
   "outputs": [],
   "source": []
  }
 ]
}