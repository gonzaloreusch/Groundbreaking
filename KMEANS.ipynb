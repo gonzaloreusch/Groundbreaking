{
 "cells": [
  {
   "cell_type": "code",
   "execution_count": 38,
   "id": "varied-speech",
   "metadata": {},
   "outputs": [],
   "source": [
    "import matplotlib.pyplot as plt\n",
    "import numpy as np\n",
    "import pandas as pd"
   ]
  },
  {
   "cell_type": "code",
   "execution_count": 39,
   "id": "first-marks",
   "metadata": {},
   "outputs": [
    {
     "data": {
      "text/plain": [
       "'2.2.4-tf'"
      ]
     },
     "execution_count": 39,
     "metadata": {},
     "output_type": "execute_result"
    }
   ],
   "source": [
    "import tensorflow\n",
    "tensorflow.keras.__version__"
   ]
  },
  {
   "cell_type": "code",
   "execution_count": 40,
   "id": "together-acrylic",
   "metadata": {},
   "outputs": [
    {
     "data": {
      "text/html": [
       "<div>\n",
       "<style scoped>\n",
       "    .dataframe tbody tr th:only-of-type {\n",
       "        vertical-align: middle;\n",
       "    }\n",
       "\n",
       "    .dataframe tbody tr th {\n",
       "        vertical-align: top;\n",
       "    }\n",
       "\n",
       "    .dataframe thead th {\n",
       "        text-align: right;\n",
       "    }\n",
       "</style>\n",
       "<table border=\"1\" class=\"dataframe\">\n",
       "  <thead>\n",
       "    <tr style=\"text-align: right;\">\n",
       "      <th></th>\n",
       "      <th>time</th>\n",
       "      <th>Unnamed: 1</th>\n",
       "      <th>Unnamed: 2</th>\n",
       "      <th>latitude</th>\n",
       "      <th>longitude</th>\n",
       "      <th>depth</th>\n",
       "      <th>mag</th>\n",
       "      <th>magType</th>\n",
       "      <th>nst</th>\n",
       "      <th>gap</th>\n",
       "      <th>...</th>\n",
       "      <th>Year</th>\n",
       "      <th>Month</th>\n",
       "      <th>Day</th>\n",
       "      <th>Eruption_Date</th>\n",
       "      <th>VEI</th>\n",
       "      <th>Lat_Eruption</th>\n",
       "      <th>Lon_Eruption</th>\n",
       "      <th>Lat_Dif</th>\n",
       "      <th>Lon_dif</th>\n",
       "      <th>Date_Dif</th>\n",
       "    </tr>\n",
       "  </thead>\n",
       "  <tbody>\n",
       "    <tr>\n",
       "      <th>0</th>\n",
       "      <td>2002-08-19T15:03:23.600Z</td>\n",
       "      <td>8/19/2002</td>\n",
       "      <td>T15:03:23.600Z</td>\n",
       "      <td>37.697</td>\n",
       "      <td>14.967</td>\n",
       "      <td>5.0</td>\n",
       "      <td>2.8</td>\n",
       "      <td>md</td>\n",
       "      <td>9.0</td>\n",
       "      <td>NaN</td>\n",
       "      <td>...</td>\n",
       "      <td>2002</td>\n",
       "      <td>8</td>\n",
       "      <td>28</td>\n",
       "      <td>8/28/2002</td>\n",
       "      <td>3</td>\n",
       "      <td>37.734</td>\n",
       "      <td>15.004</td>\n",
       "      <td>0.037</td>\n",
       "      <td>0.037</td>\n",
       "      <td>9</td>\n",
       "    </tr>\n",
       "    <tr>\n",
       "      <th>1</th>\n",
       "      <td>2002-08-19T14:57:59.700Z</td>\n",
       "      <td>8/19/2002</td>\n",
       "      <td>T14:57:59.700Z</td>\n",
       "      <td>37.721</td>\n",
       "      <td>14.963</td>\n",
       "      <td>5.0</td>\n",
       "      <td>2.7</td>\n",
       "      <td>md</td>\n",
       "      <td>8.0</td>\n",
       "      <td>NaN</td>\n",
       "      <td>...</td>\n",
       "      <td>2002</td>\n",
       "      <td>8</td>\n",
       "      <td>28</td>\n",
       "      <td>8/28/2002</td>\n",
       "      <td>3</td>\n",
       "      <td>37.734</td>\n",
       "      <td>15.004</td>\n",
       "      <td>0.013</td>\n",
       "      <td>0.041</td>\n",
       "      <td>9</td>\n",
       "    </tr>\n",
       "    <tr>\n",
       "      <th>2</th>\n",
       "      <td>2002-08-19T12:05:21.700Z</td>\n",
       "      <td>8/19/2002</td>\n",
       "      <td>T12:05:21.700Z</td>\n",
       "      <td>37.708</td>\n",
       "      <td>14.965</td>\n",
       "      <td>5.0</td>\n",
       "      <td>2.8</td>\n",
       "      <td>md</td>\n",
       "      <td>10.0</td>\n",
       "      <td>NaN</td>\n",
       "      <td>...</td>\n",
       "      <td>2002</td>\n",
       "      <td>8</td>\n",
       "      <td>28</td>\n",
       "      <td>8/28/2002</td>\n",
       "      <td>3</td>\n",
       "      <td>37.734</td>\n",
       "      <td>15.004</td>\n",
       "      <td>0.026</td>\n",
       "      <td>0.039</td>\n",
       "      <td>9</td>\n",
       "    </tr>\n",
       "    <tr>\n",
       "      <th>3</th>\n",
       "      <td>2002-08-13T05:29:43.300Z</td>\n",
       "      <td>8/13/2002</td>\n",
       "      <td>T05:29:43.300Z</td>\n",
       "      <td>37.842</td>\n",
       "      <td>14.667</td>\n",
       "      <td>5.0</td>\n",
       "      <td>3.2</td>\n",
       "      <td>md</td>\n",
       "      <td>18.0</td>\n",
       "      <td>NaN</td>\n",
       "      <td>...</td>\n",
       "      <td>2002</td>\n",
       "      <td>8</td>\n",
       "      <td>28</td>\n",
       "      <td>8/28/2002</td>\n",
       "      <td>3</td>\n",
       "      <td>37.734</td>\n",
       "      <td>15.004</td>\n",
       "      <td>0.108</td>\n",
       "      <td>0.337</td>\n",
       "      <td>15</td>\n",
       "    </tr>\n",
       "    <tr>\n",
       "      <th>4</th>\n",
       "      <td>2002-08-13T02:35:50.000Z</td>\n",
       "      <td>8/13/2002</td>\n",
       "      <td>T02:35:50.000Z</td>\n",
       "      <td>37.840</td>\n",
       "      <td>14.662</td>\n",
       "      <td>5.0</td>\n",
       "      <td>2.5</td>\n",
       "      <td>md</td>\n",
       "      <td>5.0</td>\n",
       "      <td>NaN</td>\n",
       "      <td>...</td>\n",
       "      <td>2002</td>\n",
       "      <td>8</td>\n",
       "      <td>28</td>\n",
       "      <td>8/28/2002</td>\n",
       "      <td>3</td>\n",
       "      <td>37.734</td>\n",
       "      <td>15.004</td>\n",
       "      <td>0.106</td>\n",
       "      <td>0.342</td>\n",
       "      <td>15</td>\n",
       "    </tr>\n",
       "  </tbody>\n",
       "</table>\n",
       "<p>5 rows × 35 columns</p>\n",
       "</div>"
      ],
      "text/plain": [
       "                       time Unnamed: 1      Unnamed: 2  latitude  longitude  \\\n",
       "0  2002-08-19T15:03:23.600Z  8/19/2002  T15:03:23.600Z    37.697     14.967   \n",
       "1  2002-08-19T14:57:59.700Z  8/19/2002  T14:57:59.700Z    37.721     14.963   \n",
       "2  2002-08-19T12:05:21.700Z  8/19/2002  T12:05:21.700Z    37.708     14.965   \n",
       "3  2002-08-13T05:29:43.300Z  8/13/2002  T05:29:43.300Z    37.842     14.667   \n",
       "4  2002-08-13T02:35:50.000Z  8/13/2002  T02:35:50.000Z    37.840     14.662   \n",
       "\n",
       "   depth  mag magType   nst  gap  ...  Year  Month Day Eruption_Date VEI  \\\n",
       "0    5.0  2.8      md   9.0  NaN  ...  2002      8  28     8/28/2002   3   \n",
       "1    5.0  2.7      md   8.0  NaN  ...  2002      8  28     8/28/2002   3   \n",
       "2    5.0  2.8      md  10.0  NaN  ...  2002      8  28     8/28/2002   3   \n",
       "3    5.0  3.2      md  18.0  NaN  ...  2002      8  28     8/28/2002   3   \n",
       "4    5.0  2.5      md   5.0  NaN  ...  2002      8  28     8/28/2002   3   \n",
       "\n",
       "  Lat_Eruption Lon_Eruption  Lat_Dif  Lon_dif  Date_Dif  \n",
       "0       37.734       15.004    0.037    0.037         9  \n",
       "1       37.734       15.004    0.013    0.041         9  \n",
       "2       37.734       15.004    0.026    0.039         9  \n",
       "3       37.734       15.004    0.108    0.337        15  \n",
       "4       37.734       15.004    0.106    0.342        15  \n",
       "\n",
       "[5 rows x 35 columns]"
      ]
     },
     "execution_count": 40,
     "metadata": {},
     "output_type": "execute_result"
    }
   ],
   "source": [
    "Eruptions = pd.read_csv('all_files.csv')\n",
    "Eruptions.head()"
   ]
  },
  {
   "cell_type": "code",
   "execution_count": 41,
   "id": "black-backup",
   "metadata": {},
   "outputs": [
    {
     "data": {
      "text/plain": [
       "time                object\n",
       "Unnamed: 1          object\n",
       "Unnamed: 2          object\n",
       "latitude           float64\n",
       "longitude          float64\n",
       "depth              float64\n",
       "mag                float64\n",
       "magType             object\n",
       "nst                float64\n",
       "gap                float64\n",
       "dmin               float64\n",
       "rms                float64\n",
       "net                 object\n",
       "id                  object\n",
       "updated             object\n",
       "place               object\n",
       "type                object\n",
       "horizontalError    float64\n",
       "depthError         float64\n",
       "magError           float64\n",
       "magNst             float64\n",
       "status              object\n",
       "locationSource      object\n",
       "magSource           object\n",
       "Name                object\n",
       "Year                 int64\n",
       "Month                int64\n",
       "Day                  int64\n",
       "Eruption_Date       object\n",
       "VEI                  int64\n",
       "Lat_Eruption       float64\n",
       "Lon_Eruption       float64\n",
       "Lat_Dif            float64\n",
       "Lon_dif            float64\n",
       "Date_Dif             int64\n",
       "dtype: object"
      ]
     },
     "execution_count": 41,
     "metadata": {},
     "output_type": "execute_result"
    }
   ],
   "source": [
    "Eruptions.dtypes"
   ]
  },
  {
   "cell_type": "code",
   "execution_count": 45,
   "id": "explicit-penetration",
   "metadata": {},
   "outputs": [
    {
     "data": {
      "text/html": [
       "<div>\n",
       "<style scoped>\n",
       "    .dataframe tbody tr th:only-of-type {\n",
       "        vertical-align: middle;\n",
       "    }\n",
       "\n",
       "    .dataframe tbody tr th {\n",
       "        vertical-align: top;\n",
       "    }\n",
       "\n",
       "    .dataframe thead th {\n",
       "        text-align: right;\n",
       "    }\n",
       "</style>\n",
       "<table border=\"1\" class=\"dataframe\">\n",
       "  <thead>\n",
       "    <tr style=\"text-align: right;\">\n",
       "      <th></th>\n",
       "      <th>depth</th>\n",
       "      <th>mag</th>\n",
       "      <th>VEI</th>\n",
       "    </tr>\n",
       "  </thead>\n",
       "  <tbody>\n",
       "    <tr>\n",
       "      <th>0</th>\n",
       "      <td>5.0</td>\n",
       "      <td>2.8</td>\n",
       "      <td>3</td>\n",
       "    </tr>\n",
       "    <tr>\n",
       "      <th>1</th>\n",
       "      <td>5.0</td>\n",
       "      <td>2.7</td>\n",
       "      <td>3</td>\n",
       "    </tr>\n",
       "    <tr>\n",
       "      <th>2</th>\n",
       "      <td>5.0</td>\n",
       "      <td>2.8</td>\n",
       "      <td>3</td>\n",
       "    </tr>\n",
       "    <tr>\n",
       "      <th>3</th>\n",
       "      <td>5.0</td>\n",
       "      <td>3.2</td>\n",
       "      <td>3</td>\n",
       "    </tr>\n",
       "    <tr>\n",
       "      <th>4</th>\n",
       "      <td>5.0</td>\n",
       "      <td>2.5</td>\n",
       "      <td>3</td>\n",
       "    </tr>\n",
       "  </tbody>\n",
       "</table>\n",
       "</div>"
      ],
      "text/plain": [
       "   depth  mag  VEI\n",
       "0    5.0  2.8    3\n",
       "1    5.0  2.7    3\n",
       "2    5.0  2.8    3\n",
       "3    5.0  3.2    3\n",
       "4    5.0  2.5    3"
      ]
     },
     "execution_count": 45,
     "metadata": {},
     "output_type": "execute_result"
    }
   ],
   "source": [
    "selected_features = Eruptions[['depth','mag','VEI']]\n",
    "selected_features.head()"
   ]
  },
  {
   "cell_type": "code",
   "execution_count": 52,
   "id": "concrete-american",
   "metadata": {},
   "outputs": [
    {
     "name": "stdout",
     "output_type": "stream",
     "text": [
      "(1458,) (1458,)\n"
     ]
    }
   ],
   "source": [
    "x = selected_features['depth']\n",
    "y = selected_features[\"VEI\"]\n",
    "print(x.shape, y.shape)"
   ]
  },
  {
   "cell_type": "code",
   "execution_count": 53,
   "id": "spread-retreat",
   "metadata": {},
   "outputs": [
    {
     "data": {
      "image/png": "[encoded data removed]",
      "text/plain": [
       "<Figure size 432x288 with 1 Axes>"
      ]
     },
     "metadata": {
      "needs_background": "light"
     },
     "output_type": "display_data"
    }
   ],
   "source": [
    "# DEPTH VS VEI\n",
    "plt.scatter(x,y)\n",
    "plt.show()"
   ]
  },
  {
   "cell_type": "code",
   "execution_count": 51,
   "id": "parallel-instrumentation",
   "metadata": {},
   "outputs": [
    {
     "data": {
      "text/plain": [
       "<AxesSubplot:xlabel='mag', ylabel='VEI'>"
      ]
     },
     "execution_count": 51,
     "metadata": {},
     "output_type": "execute_result"
    },
    {
     "data": {
      "image/png": "[encoded data removed]",
      "text/plain": [
       "<Figure size 432x288 with 1 Axes>"
      ]
     },
     "metadata": {
      "needs_background": "light"
     },
     "output_type": "display_data"
    }
   ],
   "source": [
    "# MAGNITUDE VS VEI\n",
    "selected_features.plot.scatter('mag','VEI')"
   ]
  },
  {
   "cell_type": "code",
   "execution_count": null,
   "id": "difficult-alarm",
   "metadata": {},
   "outputs": [],
   "source": []
  },
  {
   "cell_type": "code",
   "execution_count": null,
   "id": "equal-bunny",
   "metadata": {},
   "outputs": [],
   "source": []
  },
  {
   "cell_type": "code",
   "execution_count": null,
   "id": "mediterranean-obligation",
   "metadata": {},
   "outputs": [],
   "source": []
  }
 ],
 "metadata": {
  "kernelspec": {
   "display_name": "Python 3",
   "language": "python",
   "name": "python3"
  },
  "language_info": {
   "codemirror_mode": {
    "name": "ipython",
    "version": 3
   },
   "file_extension": ".py",
   "mimetype": "text/x-python",
   "name": "python",
   "nbconvert_exporter": "python",
   "pygments_lexer": "ipython3",
   "version": "3.6.12"
  }
 },
 "nbformat": 4,
 "nbformat_minor": 5
}
